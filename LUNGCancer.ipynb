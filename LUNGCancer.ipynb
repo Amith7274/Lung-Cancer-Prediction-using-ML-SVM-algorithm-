{
 "cells": [
  {
   "cell_type": "code",
   "execution_count": 35,
   "metadata": {
    "scrolled": true
   },
   "outputs": [],
   "source": [
    "import numpy as np\n",
    "import pandas as pd\n",
    "\n",
    "import matplotlib.pyplot as plt\n",
    "\n",
    "from sklearn import model_selection\n",
    "from sklearn import preprocessing\n",
    "from sklearn import metrics\n",
    "\n",
    "from sklearn import neighbors\n",
    "from sklearn import naive_bayes\n",
    "from sklearn import discriminant_analysis\n",
    "from sklearn import linear_model\n",
    "from sklearn import tree\n",
    "from sklearn import ensemble\n",
    "from sklearn import svm\n",
    "import seaborn as sns\n",
    "from sklearn.ensemble import RandomForestClassifier"
   ]
  },
  {
   "cell_type": "code",
   "execution_count": 36,
   "metadata": {},
   "outputs": [
    {
     "data": {
      "text/html": [
       "<div>\n",
       "<style scoped>\n",
       "    .dataframe tbody tr th:only-of-type {\n",
       "        vertical-align: middle;\n",
       "    }\n",
       "\n",
       "    .dataframe tbody tr th {\n",
       "        vertical-align: top;\n",
       "    }\n",
       "\n",
       "    .dataframe thead th {\n",
       "        text-align: right;\n",
       "    }\n",
       "</style>\n",
       "<table border=\"1\" class=\"dataframe\">\n",
       "  <thead>\n",
       "    <tr style=\"text-align: right;\">\n",
       "      <th></th>\n",
       "      <th>GENDER</th>\n",
       "      <th>AGE</th>\n",
       "      <th>SMOKING</th>\n",
       "      <th>YELLOW_FINGERS</th>\n",
       "      <th>ANXIETY</th>\n",
       "      <th>PEER_PRESSURE</th>\n",
       "      <th>CHRONIC DISEASE</th>\n",
       "      <th>FATIGUE</th>\n",
       "      <th>ALLERGY</th>\n",
       "      <th>WHEEZING</th>\n",
       "      <th>ALCOHOL CONSUMING</th>\n",
       "      <th>COUGHING</th>\n",
       "      <th>SHORTNESS OF BREATH</th>\n",
       "      <th>SWALLOWING DIFFICULTY</th>\n",
       "      <th>CHEST PAIN</th>\n",
       "      <th>LUNG_CANCER</th>\n",
       "    </tr>\n",
       "  </thead>\n",
       "  <tbody>\n",
       "    <tr>\n",
       "      <th>0</th>\n",
       "      <td>1</td>\n",
       "      <td>69</td>\n",
       "      <td>0</td>\n",
       "      <td>1</td>\n",
       "      <td>1</td>\n",
       "      <td>0</td>\n",
       "      <td>0</td>\n",
       "      <td>1</td>\n",
       "      <td>0</td>\n",
       "      <td>1</td>\n",
       "      <td>1</td>\n",
       "      <td>1</td>\n",
       "      <td>1</td>\n",
       "      <td>1</td>\n",
       "      <td>1</td>\n",
       "      <td>1</td>\n",
       "    </tr>\n",
       "    <tr>\n",
       "      <th>1</th>\n",
       "      <td>1</td>\n",
       "      <td>74</td>\n",
       "      <td>1</td>\n",
       "      <td>0</td>\n",
       "      <td>0</td>\n",
       "      <td>0</td>\n",
       "      <td>1</td>\n",
       "      <td>1</td>\n",
       "      <td>1</td>\n",
       "      <td>0</td>\n",
       "      <td>0</td>\n",
       "      <td>0</td>\n",
       "      <td>1</td>\n",
       "      <td>1</td>\n",
       "      <td>1</td>\n",
       "      <td>1</td>\n",
       "    </tr>\n",
       "    <tr>\n",
       "      <th>2</th>\n",
       "      <td>0</td>\n",
       "      <td>59</td>\n",
       "      <td>0</td>\n",
       "      <td>0</td>\n",
       "      <td>0</td>\n",
       "      <td>1</td>\n",
       "      <td>0</td>\n",
       "      <td>1</td>\n",
       "      <td>0</td>\n",
       "      <td>1</td>\n",
       "      <td>0</td>\n",
       "      <td>1</td>\n",
       "      <td>1</td>\n",
       "      <td>0</td>\n",
       "      <td>1</td>\n",
       "      <td>0</td>\n",
       "    </tr>\n",
       "    <tr>\n",
       "      <th>3</th>\n",
       "      <td>1</td>\n",
       "      <td>63</td>\n",
       "      <td>1</td>\n",
       "      <td>1</td>\n",
       "      <td>1</td>\n",
       "      <td>0</td>\n",
       "      <td>0</td>\n",
       "      <td>0</td>\n",
       "      <td>0</td>\n",
       "      <td>0</td>\n",
       "      <td>1</td>\n",
       "      <td>0</td>\n",
       "      <td>0</td>\n",
       "      <td>1</td>\n",
       "      <td>1</td>\n",
       "      <td>0</td>\n",
       "    </tr>\n",
       "    <tr>\n",
       "      <th>4</th>\n",
       "      <td>0</td>\n",
       "      <td>63</td>\n",
       "      <td>0</td>\n",
       "      <td>1</td>\n",
       "      <td>0</td>\n",
       "      <td>0</td>\n",
       "      <td>0</td>\n",
       "      <td>0</td>\n",
       "      <td>0</td>\n",
       "      <td>1</td>\n",
       "      <td>0</td>\n",
       "      <td>1</td>\n",
       "      <td>1</td>\n",
       "      <td>0</td>\n",
       "      <td>0</td>\n",
       "      <td>0</td>\n",
       "    </tr>\n",
       "  </tbody>\n",
       "</table>\n",
       "</div>"
      ],
      "text/plain": [
       "   GENDER  AGE  SMOKING  YELLOW_FINGERS  ANXIETY  PEER_PRESSURE  \\\n",
       "0       1   69        0               1        1              0   \n",
       "1       1   74        1               0        0              0   \n",
       "2       0   59        0               0        0              1   \n",
       "3       1   63        1               1        1              0   \n",
       "4       0   63        0               1        0              0   \n",
       "\n",
       "   CHRONIC DISEASE  FATIGUE   ALLERGY   WHEEZING  ALCOHOL CONSUMING  COUGHING  \\\n",
       "0                0         1         0         1                  1         1   \n",
       "1                1         1         1         0                  0         0   \n",
       "2                0         1         0         1                  0         1   \n",
       "3                0         0         0         0                  1         0   \n",
       "4                0         0         0         1                  0         1   \n",
       "\n",
       "   SHORTNESS OF BREATH  SWALLOWING DIFFICULTY  CHEST PAIN  LUNG_CANCER  \n",
       "0                    1                      1           1            1  \n",
       "1                    1                      1           1            1  \n",
       "2                    1                      0           1            0  \n",
       "3                    0                      1           1            0  \n",
       "4                    1                      0           0            0  "
      ]
     },
     "execution_count": 36,
     "metadata": {},
     "output_type": "execute_result"
    }
   ],
   "source": [
    "dataset= pd.read_csv(\"lung cancer.csv\")\n",
    "GENDER = \"GENDER\"\n",
    "AGE = \"AGE\"\n",
    "SMOKING = \"SMOKING\"\n",
    "LUNG_CANCER = \"LUNG_CANCER\"\n",
    "CHRONIC_DISEASE = \"CHRONIC DISEASE\"\n",
    "data_df = pd.read_csv(\"lung cancer.csv\")\n",
    "\n",
    "for col in data_df.columns:\n",
    "    if col != AGE:\n",
    "        data_df[col] = data_df[col].astype('category').cat.codes      \n",
    "data_df.head(5)"
   ]
  },
  {
   "cell_type": "code",
   "execution_count": 37,
   "metadata": {},
   "outputs": [
    {
     "data": {
      "text/plain": [
       "1    270\n",
       "0     39\n",
       "Name: LUNG_CANCER, dtype: int64"
      ]
     },
     "execution_count": 37,
     "metadata": {},
     "output_type": "execute_result"
    }
   ],
   "source": [
    "data_df['LUNG_CANCER'].value_counts()"
   ]
  },
  {
   "cell_type": "code",
   "execution_count": 38,
   "metadata": {},
   "outputs": [],
   "source": [
    "# Separate the data into people without lung cancer and those with it\n",
    "no_data = data_df[data_df[LUNG_CANCER] == 0]\n",
    "yes_data = data_df[data_df[LUNG_CANCER] == 1]"
   ]
  },
  {
   "cell_type": "code",
   "execution_count": 39,
   "metadata": {},
   "outputs": [],
   "source": [
    "from sklearn.utils import resample"
   ]
  },
  {
   "cell_type": "code",
   "execution_count": 40,
   "metadata": {},
   "outputs": [
    {
     "data": {
      "text/plain": [
       "1    270\n",
       "0    269\n",
       "Name: LUNG_CANCER, dtype: int64"
      ]
     },
     "execution_count": 40,
     "metadata": {},
     "output_type": "execute_result"
    }
   ],
   "source": [
    "data_majority = data_df[data_df.LUNG_CANCER==1]\n",
    "data_minority = data_df[data_df.LUNG_CANCER==0]\n",
    " \n",
    "data_minority_upsampled = resample(data_minority, \n",
    "                                 replace=True,  \n",
    "                                 n_samples=269, \n",
    "                                 random_state=4)\n",
    "\n",
    "data = pd.concat([data_majority, data_minority_upsampled])\n",
    "data['LUNG_CANCER'].value_counts()"
   ]
  },
  {
   "cell_type": "code",
   "execution_count": 41,
   "metadata": {},
   "outputs": [],
   "source": [
    "#data_upsampled.to_csv('D:/upsampled.csv')"
   ]
  },
  {
   "cell_type": "code",
   "execution_count": 8,
   "metadata": {},
   "outputs": [
    {
     "data": {
      "text/html": [
       "<div>\n",
       "<style scoped>\n",
       "    .dataframe tbody tr th:only-of-type {\n",
       "        vertical-align: middle;\n",
       "    }\n",
       "\n",
       "    .dataframe tbody tr th {\n",
       "        vertical-align: top;\n",
       "    }\n",
       "\n",
       "    .dataframe thead th {\n",
       "        text-align: right;\n",
       "    }\n",
       "</style>\n",
       "<table border=\"1\" class=\"dataframe\">\n",
       "  <thead>\n",
       "    <tr style=\"text-align: right;\">\n",
       "      <th></th>\n",
       "      <th>GENDER</th>\n",
       "      <th>AGE</th>\n",
       "      <th>SMOKING</th>\n",
       "      <th>YELLOW_FINGERS</th>\n",
       "      <th>ANXIETY</th>\n",
       "      <th>PEER_PRESSURE</th>\n",
       "      <th>CHRONIC DISEASE</th>\n",
       "      <th>FATIGUE</th>\n",
       "      <th>ALLERGY</th>\n",
       "      <th>WHEEZING</th>\n",
       "      <th>ALCOHOL CONSUMING</th>\n",
       "      <th>COUGHING</th>\n",
       "      <th>SHORTNESS OF BREATH</th>\n",
       "      <th>SWALLOWING DIFFICULTY</th>\n",
       "      <th>CHEST PAIN</th>\n",
       "      <th>LUNG_CANCER</th>\n",
       "    </tr>\n",
       "  </thead>\n",
       "  <tbody>\n",
       "    <tr>\n",
       "      <th>GENDER</th>\n",
       "      <td>1.000000</td>\n",
       "      <td>0.053034</td>\n",
       "      <td>0.013795</td>\n",
       "      <td>-0.101761</td>\n",
       "      <td>0.008924</td>\n",
       "      <td>-0.022488</td>\n",
       "      <td>-0.160542</td>\n",
       "      <td>-0.123299</td>\n",
       "      <td>0.152937</td>\n",
       "      <td>0.195022</td>\n",
       "      <td>0.487007</td>\n",
       "      <td>0.110961</td>\n",
       "      <td>-0.127003</td>\n",
       "      <td>0.106336</td>\n",
       "      <td>0.453347</td>\n",
       "      <td>0.113331</td>\n",
       "    </tr>\n",
       "    <tr>\n",
       "      <th>AGE</th>\n",
       "      <td>0.053034</td>\n",
       "      <td>1.000000</td>\n",
       "      <td>-0.067120</td>\n",
       "      <td>-0.039480</td>\n",
       "      <td>0.051928</td>\n",
       "      <td>0.125363</td>\n",
       "      <td>-0.035446</td>\n",
       "      <td>0.009101</td>\n",
       "      <td>-0.034332</td>\n",
       "      <td>0.138633</td>\n",
       "      <td>0.143110</td>\n",
       "      <td>0.191779</td>\n",
       "      <td>-0.033381</td>\n",
       "      <td>-0.004218</td>\n",
       "      <td>0.021997</td>\n",
       "      <td>0.166834</td>\n",
       "    </tr>\n",
       "    <tr>\n",
       "      <th>SMOKING</th>\n",
       "      <td>0.013795</td>\n",
       "      <td>-0.067120</td>\n",
       "      <td>1.000000</td>\n",
       "      <td>-0.072564</td>\n",
       "      <td>0.060021</td>\n",
       "      <td>-0.016181</td>\n",
       "      <td>-0.081117</td>\n",
       "      <td>0.039806</td>\n",
       "      <td>0.176385</td>\n",
       "      <td>-0.141425</td>\n",
       "      <td>0.006192</td>\n",
       "      <td>-0.160457</td>\n",
       "      <td>-0.009227</td>\n",
       "      <td>0.033272</td>\n",
       "      <td>0.116128</td>\n",
       "      <td>0.128004</td>\n",
       "    </tr>\n",
       "    <tr>\n",
       "      <th>YELLOW_FINGERS</th>\n",
       "      <td>-0.101761</td>\n",
       "      <td>-0.039480</td>\n",
       "      <td>-0.072564</td>\n",
       "      <td>1.000000</td>\n",
       "      <td>0.443188</td>\n",
       "      <td>0.152721</td>\n",
       "      <td>-0.071894</td>\n",
       "      <td>-0.293359</td>\n",
       "      <td>-0.106982</td>\n",
       "      <td>0.010794</td>\n",
       "      <td>-0.121288</td>\n",
       "      <td>0.154925</td>\n",
       "      <td>-0.146664</td>\n",
       "      <td>0.381276</td>\n",
       "      <td>0.014088</td>\n",
       "      <td>0.198507</td>\n",
       "    </tr>\n",
       "    <tr>\n",
       "      <th>ANXIETY</th>\n",
       "      <td>0.008924</td>\n",
       "      <td>0.051928</td>\n",
       "      <td>0.060021</td>\n",
       "      <td>0.443188</td>\n",
       "      <td>1.000000</td>\n",
       "      <td>0.122630</td>\n",
       "      <td>-0.044979</td>\n",
       "      <td>-0.218399</td>\n",
       "      <td>-0.126870</td>\n",
       "      <td>-0.236965</td>\n",
       "      <td>-0.012848</td>\n",
       "      <td>-0.139669</td>\n",
       "      <td>-0.373462</td>\n",
       "      <td>0.471913</td>\n",
       "      <td>-0.047375</td>\n",
       "      <td>0.158786</td>\n",
       "    </tr>\n",
       "    <tr>\n",
       "      <th>PEER_PRESSURE</th>\n",
       "      <td>-0.022488</td>\n",
       "      <td>0.125363</td>\n",
       "      <td>-0.016181</td>\n",
       "      <td>0.152721</td>\n",
       "      <td>0.122630</td>\n",
       "      <td>1.000000</td>\n",
       "      <td>0.143461</td>\n",
       "      <td>0.049814</td>\n",
       "      <td>0.022248</td>\n",
       "      <td>0.081947</td>\n",
       "      <td>0.049987</td>\n",
       "      <td>0.005754</td>\n",
       "      <td>-0.123383</td>\n",
       "      <td>0.268856</td>\n",
       "      <td>0.102634</td>\n",
       "      <td>0.311043</td>\n",
       "    </tr>\n",
       "    <tr>\n",
       "      <th>CHRONIC DISEASE</th>\n",
       "      <td>-0.160542</td>\n",
       "      <td>-0.035446</td>\n",
       "      <td>-0.081117</td>\n",
       "      <td>-0.071894</td>\n",
       "      <td>-0.044979</td>\n",
       "      <td>0.143461</td>\n",
       "      <td>1.000000</td>\n",
       "      <td>0.038425</td>\n",
       "      <td>0.216899</td>\n",
       "      <td>-0.053833</td>\n",
       "      <td>0.116194</td>\n",
       "      <td>-0.192224</td>\n",
       "      <td>0.066013</td>\n",
       "      <td>0.084499</td>\n",
       "      <td>-0.079913</td>\n",
       "      <td>0.244002</td>\n",
       "    </tr>\n",
       "    <tr>\n",
       "      <th>FATIGUE</th>\n",
       "      <td>-0.123299</td>\n",
       "      <td>0.009101</td>\n",
       "      <td>0.039806</td>\n",
       "      <td>-0.293359</td>\n",
       "      <td>-0.218399</td>\n",
       "      <td>0.049814</td>\n",
       "      <td>0.038425</td>\n",
       "      <td>1.000000</td>\n",
       "      <td>0.125596</td>\n",
       "      <td>0.153600</td>\n",
       "      <td>-0.100524</td>\n",
       "      <td>0.028123</td>\n",
       "      <td>0.491690</td>\n",
       "      <td>-0.119271</td>\n",
       "      <td>-0.032266</td>\n",
       "      <td>0.234971</td>\n",
       "    </tr>\n",
       "    <tr>\n",
       "      <th>ALLERGY</th>\n",
       "      <td>0.152937</td>\n",
       "      <td>-0.034332</td>\n",
       "      <td>0.176385</td>\n",
       "      <td>-0.106982</td>\n",
       "      <td>-0.126870</td>\n",
       "      <td>0.022248</td>\n",
       "      <td>0.216899</td>\n",
       "      <td>0.125596</td>\n",
       "      <td>1.000000</td>\n",
       "      <td>0.272138</td>\n",
       "      <td>0.420668</td>\n",
       "      <td>0.242412</td>\n",
       "      <td>0.060401</td>\n",
       "      <td>0.087579</td>\n",
       "      <td>0.300952</td>\n",
       "      <td>0.513200</td>\n",
       "    </tr>\n",
       "    <tr>\n",
       "      <th>WHEEZING</th>\n",
       "      <td>0.195022</td>\n",
       "      <td>0.138633</td>\n",
       "      <td>-0.141425</td>\n",
       "      <td>0.010794</td>\n",
       "      <td>-0.236965</td>\n",
       "      <td>0.081947</td>\n",
       "      <td>-0.053833</td>\n",
       "      <td>0.153600</td>\n",
       "      <td>0.272138</td>\n",
       "      <td>1.000000</td>\n",
       "      <td>0.353470</td>\n",
       "      <td>0.503504</td>\n",
       "      <td>0.188566</td>\n",
       "      <td>0.113846</td>\n",
       "      <td>0.257012</td>\n",
       "      <td>0.362466</td>\n",
       "    </tr>\n",
       "    <tr>\n",
       "      <th>ALCOHOL CONSUMING</th>\n",
       "      <td>0.487007</td>\n",
       "      <td>0.143110</td>\n",
       "      <td>0.006192</td>\n",
       "      <td>-0.121288</td>\n",
       "      <td>-0.012848</td>\n",
       "      <td>0.049987</td>\n",
       "      <td>0.116194</td>\n",
       "      <td>-0.100524</td>\n",
       "      <td>0.420668</td>\n",
       "      <td>0.353470</td>\n",
       "      <td>1.000000</td>\n",
       "      <td>0.273196</td>\n",
       "      <td>-0.142142</td>\n",
       "      <td>0.130365</td>\n",
       "      <td>0.325877</td>\n",
       "      <td>0.438350</td>\n",
       "    </tr>\n",
       "    <tr>\n",
       "      <th>COUGHING</th>\n",
       "      <td>0.110961</td>\n",
       "      <td>0.191779</td>\n",
       "      <td>-0.160457</td>\n",
       "      <td>0.154925</td>\n",
       "      <td>-0.139669</td>\n",
       "      <td>0.005754</td>\n",
       "      <td>-0.192224</td>\n",
       "      <td>0.028123</td>\n",
       "      <td>0.242412</td>\n",
       "      <td>0.503504</td>\n",
       "      <td>0.273196</td>\n",
       "      <td>1.000000</td>\n",
       "      <td>0.205813</td>\n",
       "      <td>-0.081559</td>\n",
       "      <td>0.110672</td>\n",
       "      <td>0.318046</td>\n",
       "    </tr>\n",
       "    <tr>\n",
       "      <th>SHORTNESS OF BREATH</th>\n",
       "      <td>-0.127003</td>\n",
       "      <td>-0.033381</td>\n",
       "      <td>-0.009227</td>\n",
       "      <td>-0.146664</td>\n",
       "      <td>-0.373462</td>\n",
       "      <td>-0.123383</td>\n",
       "      <td>0.066013</td>\n",
       "      <td>0.491690</td>\n",
       "      <td>0.060401</td>\n",
       "      <td>0.188566</td>\n",
       "      <td>-0.142142</td>\n",
       "      <td>0.205813</td>\n",
       "      <td>1.000000</td>\n",
       "      <td>-0.121972</td>\n",
       "      <td>-0.058402</td>\n",
       "      <td>0.133406</td>\n",
       "    </tr>\n",
       "    <tr>\n",
       "      <th>SWALLOWING DIFFICULTY</th>\n",
       "      <td>0.106336</td>\n",
       "      <td>-0.004218</td>\n",
       "      <td>0.033272</td>\n",
       "      <td>0.381276</td>\n",
       "      <td>0.471913</td>\n",
       "      <td>0.268856</td>\n",
       "      <td>0.084499</td>\n",
       "      <td>-0.119271</td>\n",
       "      <td>0.087579</td>\n",
       "      <td>0.113846</td>\n",
       "      <td>0.130365</td>\n",
       "      <td>-0.081559</td>\n",
       "      <td>-0.121972</td>\n",
       "      <td>1.000000</td>\n",
       "      <td>0.251810</td>\n",
       "      <td>0.410165</td>\n",
       "    </tr>\n",
       "    <tr>\n",
       "      <th>CHEST PAIN</th>\n",
       "      <td>0.453347</td>\n",
       "      <td>0.021997</td>\n",
       "      <td>0.116128</td>\n",
       "      <td>0.014088</td>\n",
       "      <td>-0.047375</td>\n",
       "      <td>0.102634</td>\n",
       "      <td>-0.079913</td>\n",
       "      <td>-0.032266</td>\n",
       "      <td>0.300952</td>\n",
       "      <td>0.257012</td>\n",
       "      <td>0.325877</td>\n",
       "      <td>0.110672</td>\n",
       "      <td>-0.058402</td>\n",
       "      <td>0.251810</td>\n",
       "      <td>1.000000</td>\n",
       "      <td>0.296979</td>\n",
       "    </tr>\n",
       "    <tr>\n",
       "      <th>LUNG_CANCER</th>\n",
       "      <td>0.113331</td>\n",
       "      <td>0.166834</td>\n",
       "      <td>0.128004</td>\n",
       "      <td>0.198507</td>\n",
       "      <td>0.158786</td>\n",
       "      <td>0.311043</td>\n",
       "      <td>0.244002</td>\n",
       "      <td>0.234971</td>\n",
       "      <td>0.513200</td>\n",
       "      <td>0.362466</td>\n",
       "      <td>0.438350</td>\n",
       "      <td>0.318046</td>\n",
       "      <td>0.133406</td>\n",
       "      <td>0.410165</td>\n",
       "      <td>0.296979</td>\n",
       "      <td>1.000000</td>\n",
       "    </tr>\n",
       "  </tbody>\n",
       "</table>\n",
       "</div>"
      ],
      "text/plain": [
       "                         GENDER       AGE   SMOKING  YELLOW_FINGERS   ANXIETY  \\\n",
       "GENDER                 1.000000  0.053034  0.013795       -0.101761  0.008924   \n",
       "AGE                    0.053034  1.000000 -0.067120       -0.039480  0.051928   \n",
       "SMOKING                0.013795 -0.067120  1.000000       -0.072564  0.060021   \n",
       "YELLOW_FINGERS        -0.101761 -0.039480 -0.072564        1.000000  0.443188   \n",
       "ANXIETY                0.008924  0.051928  0.060021        0.443188  1.000000   \n",
       "PEER_PRESSURE         -0.022488  0.125363 -0.016181        0.152721  0.122630   \n",
       "CHRONIC DISEASE       -0.160542 -0.035446 -0.081117       -0.071894 -0.044979   \n",
       "FATIGUE               -0.123299  0.009101  0.039806       -0.293359 -0.218399   \n",
       "ALLERGY                0.152937 -0.034332  0.176385       -0.106982 -0.126870   \n",
       "WHEEZING               0.195022  0.138633 -0.141425        0.010794 -0.236965   \n",
       "ALCOHOL CONSUMING      0.487007  0.143110  0.006192       -0.121288 -0.012848   \n",
       "COUGHING               0.110961  0.191779 -0.160457        0.154925 -0.139669   \n",
       "SHORTNESS OF BREATH   -0.127003 -0.033381 -0.009227       -0.146664 -0.373462   \n",
       "SWALLOWING DIFFICULTY  0.106336 -0.004218  0.033272        0.381276  0.471913   \n",
       "CHEST PAIN             0.453347  0.021997  0.116128        0.014088 -0.047375   \n",
       "LUNG_CANCER            0.113331  0.166834  0.128004        0.198507  0.158786   \n",
       "\n",
       "                       PEER_PRESSURE  CHRONIC DISEASE  FATIGUE   ALLERGY   \\\n",
       "GENDER                     -0.022488        -0.160542 -0.123299  0.152937   \n",
       "AGE                         0.125363        -0.035446  0.009101 -0.034332   \n",
       "SMOKING                    -0.016181        -0.081117  0.039806  0.176385   \n",
       "YELLOW_FINGERS              0.152721        -0.071894 -0.293359 -0.106982   \n",
       "ANXIETY                     0.122630        -0.044979 -0.218399 -0.126870   \n",
       "PEER_PRESSURE               1.000000         0.143461  0.049814  0.022248   \n",
       "CHRONIC DISEASE             0.143461         1.000000  0.038425  0.216899   \n",
       "FATIGUE                     0.049814         0.038425  1.000000  0.125596   \n",
       "ALLERGY                     0.022248         0.216899  0.125596  1.000000   \n",
       "WHEEZING                    0.081947        -0.053833  0.153600  0.272138   \n",
       "ALCOHOL CONSUMING           0.049987         0.116194 -0.100524  0.420668   \n",
       "COUGHING                    0.005754        -0.192224  0.028123  0.242412   \n",
       "SHORTNESS OF BREATH        -0.123383         0.066013  0.491690  0.060401   \n",
       "SWALLOWING DIFFICULTY       0.268856         0.084499 -0.119271  0.087579   \n",
       "CHEST PAIN                  0.102634        -0.079913 -0.032266  0.300952   \n",
       "LUNG_CANCER                 0.311043         0.244002  0.234971  0.513200   \n",
       "\n",
       "                       WHEEZING  ALCOHOL CONSUMING  COUGHING  \\\n",
       "GENDER                 0.195022           0.487007  0.110961   \n",
       "AGE                    0.138633           0.143110  0.191779   \n",
       "SMOKING               -0.141425           0.006192 -0.160457   \n",
       "YELLOW_FINGERS         0.010794          -0.121288  0.154925   \n",
       "ANXIETY               -0.236965          -0.012848 -0.139669   \n",
       "PEER_PRESSURE          0.081947           0.049987  0.005754   \n",
       "CHRONIC DISEASE       -0.053833           0.116194 -0.192224   \n",
       "FATIGUE                0.153600          -0.100524  0.028123   \n",
       "ALLERGY                0.272138           0.420668  0.242412   \n",
       "WHEEZING               1.000000           0.353470  0.503504   \n",
       "ALCOHOL CONSUMING      0.353470           1.000000  0.273196   \n",
       "COUGHING               0.503504           0.273196  1.000000   \n",
       "SHORTNESS OF BREATH    0.188566          -0.142142  0.205813   \n",
       "SWALLOWING DIFFICULTY  0.113846           0.130365 -0.081559   \n",
       "CHEST PAIN             0.257012           0.325877  0.110672   \n",
       "LUNG_CANCER            0.362466           0.438350  0.318046   \n",
       "\n",
       "                       SHORTNESS OF BREATH  SWALLOWING DIFFICULTY  CHEST PAIN  \\\n",
       "GENDER                           -0.127003               0.106336    0.453347   \n",
       "AGE                              -0.033381              -0.004218    0.021997   \n",
       "SMOKING                          -0.009227               0.033272    0.116128   \n",
       "YELLOW_FINGERS                   -0.146664               0.381276    0.014088   \n",
       "ANXIETY                          -0.373462               0.471913   -0.047375   \n",
       "PEER_PRESSURE                    -0.123383               0.268856    0.102634   \n",
       "CHRONIC DISEASE                   0.066013               0.084499   -0.079913   \n",
       "FATIGUE                           0.491690              -0.119271   -0.032266   \n",
       "ALLERGY                           0.060401               0.087579    0.300952   \n",
       "WHEEZING                          0.188566               0.113846    0.257012   \n",
       "ALCOHOL CONSUMING                -0.142142               0.130365    0.325877   \n",
       "COUGHING                          0.205813              -0.081559    0.110672   \n",
       "SHORTNESS OF BREATH               1.000000              -0.121972   -0.058402   \n",
       "SWALLOWING DIFFICULTY            -0.121972               1.000000    0.251810   \n",
       "CHEST PAIN                       -0.058402               0.251810    1.000000   \n",
       "LUNG_CANCER                       0.133406               0.410165    0.296979   \n",
       "\n",
       "                       LUNG_CANCER  \n",
       "GENDER                    0.113331  \n",
       "AGE                       0.166834  \n",
       "SMOKING                   0.128004  \n",
       "YELLOW_FINGERS            0.198507  \n",
       "ANXIETY                   0.158786  \n",
       "PEER_PRESSURE             0.311043  \n",
       "CHRONIC DISEASE           0.244002  \n",
       "FATIGUE                   0.234971  \n",
       "ALLERGY                   0.513200  \n",
       "WHEEZING                  0.362466  \n",
       "ALCOHOL CONSUMING         0.438350  \n",
       "COUGHING                  0.318046  \n",
       "SHORTNESS OF BREATH       0.133406  \n",
       "SWALLOWING DIFFICULTY     0.410165  \n",
       "CHEST PAIN                0.296979  \n",
       "LUNG_CANCER               1.000000  "
      ]
     },
     "execution_count": 8,
     "metadata": {},
     "output_type": "execute_result"
    }
   ],
   "source": [
    "data.corr()"
   ]
  },
  {
   "cell_type": "code",
   "execution_count": 9,
   "metadata": {},
   "outputs": [
    {
     "data": {
      "text/plain": [
       "<AxesSubplot:>"
      ]
     },
     "execution_count": 9,
     "metadata": {},
     "output_type": "execute_result"
    },
    {
     "data": {
      "image/png": "[encoded data removed]",
      "text/plain": [
       "<Figure size 1080x720 with 2 Axes>"
      ]
     },
     "metadata": {
      "needs_background": "light"
     },
     "output_type": "display_data"
    }
   ],
   "source": [
    "matrix = np.triu(data.corr())\n",
    "plt.figure(figsize = (15,10))\n",
    "sns.heatmap(data.corr(), annot=True, mask=matrix)"
   ]
  },
  {
   "cell_type": "markdown",
   "metadata": {},
   "source": [
    "## Age"
   ]
  },
  {
   "cell_type": "code",
   "execution_count": 10,
   "metadata": {},
   "outputs": [
    {
     "data": {
      "text/plain": [
       "<AxesSubplot:title={'center':'Age vs. lung cancer'}, ylabel='Frequency'>"
      ]
     },
     "execution_count": 10,
     "metadata": {},
     "output_type": "execute_result"
    },
    {
     "data": {
      "image/png": "[encoded data removed]",
      "text/plain": [
       "<Figure size 432x288 with 1 Axes>"
      ]
     },
     "metadata": {
      "needs_background": "light"
     },
     "output_type": "display_data"
    }
   ],
   "source": [
    "yes_data[AGE].plot(title=\"Age vs. lung cancer\", kind=\"hist\")\n",
    "no_data[AGE].plot(kind=\"hist\")"
   ]
  },
  {
   "cell_type": "markdown",
   "metadata": {},
   "source": [
    "## Smoking"
   ]
  },
  {
   "cell_type": "code",
   "execution_count": 11,
   "metadata": {},
   "outputs": [
    {
     "data": {
      "text/plain": [
       "<AxesSubplot:title={'center':'Smoking vs. lung cancer'}>"
      ]
     },
     "execution_count": 11,
     "metadata": {},
     "output_type": "execute_result"
    },
    {
     "data": {
      "image/png": "[encoded data removed]",
      "text/plain": [
       "<Figure size 432x288 with 1 Axes>"
      ]
     },
     "metadata": {
      "needs_background": "light"
     },
     "output_type": "display_data"
    }
   ],
   "source": [
    "yes_data[SMOKING].value_counts().plot(title=\"Smoking vs. lung cancer\", kind=\"bar\")"
   ]
  },
  {
   "cell_type": "code",
   "execution_count": 12,
   "metadata": {},
   "outputs": [
    {
     "data": {
      "text/plain": [
       "<AxesSubplot:title={'center':'Non-smoking vs. lung cancer'}>"
      ]
     },
     "execution_count": 12,
     "metadata": {},
     "output_type": "execute_result"
    },
    {
     "data": {
      "image/png": "[encoded data removed]",
      "text/plain": [
       "<Figure size 432x288 with 1 Axes>"
      ]
     },
     "metadata": {
      "needs_background": "light"
     },
     "output_type": "display_data"
    }
   ],
   "source": [
    "no_data[SMOKING].value_counts().plot(title=\"Non-smoking vs. lung cancer\", kind=\"bar\")"
   ]
  },
  {
   "cell_type": "markdown",
   "metadata": {},
   "source": [
    "## Chronic Disease"
   ]
  },
  {
   "cell_type": "code",
   "execution_count": 13,
   "metadata": {},
   "outputs": [
    {
     "data": {
      "text/plain": [
       "<AxesSubplot:title={'center':'Chronic disease vs. lung cancer'}>"
      ]
     },
     "execution_count": 13,
     "metadata": {},
     "output_type": "execute_result"
    },
    {
     "data": {
      "image/png": "[encoded data removed]",
      "text/plain": [
       "<Figure size 432x288 with 1 Axes>"
      ]
     },
     "metadata": {
      "needs_background": "light"
     },
     "output_type": "display_data"
    }
   ],
   "source": [
    "yes_data[CHRONIC_DISEASE].value_counts().plot(title=\"Chronic disease vs. lung cancer\", kind=\"bar\")"
   ]
  },
  {
   "cell_type": "code",
   "execution_count": 14,
   "metadata": {},
   "outputs": [
    {
     "data": {
      "text/plain": [
       "<AxesSubplot:title={'center':'Chronic disease vs. lung cancer'}>"
      ]
     },
     "execution_count": 14,
     "metadata": {},
     "output_type": "execute_result"
    },
    {
     "data": {
      "image/png": "[encoded data removed]",
      "text/plain": [
       "<Figure size 432x288 with 1 Axes>"
      ]
     },
     "metadata": {
      "needs_background": "light"
     },
     "output_type": "display_data"
    }
   ],
   "source": [
    "no_data[CHRONIC_DISEASE].value_counts().plot(title=\"Chronic disease vs. lung cancer\", kind=\"bar\")"
   ]
  },
  {
   "cell_type": "markdown",
   "metadata": {},
   "source": [
    "# Part 2: Making Predictions"
   ]
  },
  {
   "cell_type": "code",
   "execution_count": 42,
   "metadata": {},
   "outputs": [],
   "source": [
    "# Separate the data into training and validation sets\n",
    "data_X = data.iloc[:, 0:15]\n",
    "#data_X = preprocessing.scale(data_X) # Scaling helps LinearSVC converge\n",
    "data_y = data.iloc[:, 15]\n",
    "train_X, test_X, train_y, test_y = model_selection.train_test_split(data_X, data_y, test_size=0.2, random_state=0)"
   ]
  },
  {
   "cell_type": "code",
   "execution_count": 43,
   "metadata": {},
   "outputs": [],
   "source": [
    "def run_classifiers(classifiers, train_X, train_y, test_X, test_y):\n",
    "    \"\"\"\n",
    "    Fits each classifier to the training data and runs it on the test data.\n",
    "    Prints out the training and test accuracies. \n",
    "    \"\"\"\n",
    "    results = [] # list of 3-tuples: (classifier name, train accuracy, test accuracy)\n",
    "    \n",
    "\n",
    "    \n",
    "    for clf in classifiers:       \n",
    "        # Run classifier on train and test data\n",
    "        clf.fit(train_X, train_y)\n",
    "        train_pred = clf.predict(train_X)       \n",
    "        train_acc = metrics.accuracy_score(train_y, train_pred)\n",
    "        \n",
    "        test_pred = clf.predict(test_X)\n",
    "        test_acc = metrics.accuracy_score(test_y, test_pred)\n",
    "        \n",
    "        # Print out misclassification metrics\n",
    "        conf_mat = metrics.confusion_matrix(test_y, test_pred)   \n",
    "        precision = conf_mat[1][1] / (conf_mat[1][1] + conf_mat[0][1])\n",
    "        recall = conf_mat[1][1] / (conf_mat[1][1] + conf_mat[1][0])\n",
    "        f1_score = 2 * ((precision * recall) / (precision + recall))\n",
    "\n",
    "        print(f\"{type(clf).__name__}\")\n",
    "        print('---------------------------------')\n",
    "        print(f\"Precision rate = {precision}\")    \n",
    "        print(f\"Recall rate = {recall}\")\n",
    "        print(f\"F1 score = {f1_score}\\n\")\n",
    "        print(conf_mat)\n",
    "        print('---------------------------------')\n",
    "\n",
    "        # Store results\n",
    "        results.append( ((type(clf).__name__), train_acc, test_acc) )\n",
    "        \n",
    "    return results"
   ]
  },
  {
   "cell_type": "code",
   "execution_count": 27,
   "metadata": {},
   "outputs": [
    {
     "name": "stderr",
     "output_type": "stream",
     "text": [
      "C:\\Users\\manin\\anaconda3\\lib\\site-packages\\sklearn\\linear_model\\_logistic.py:814: ConvergenceWarning: lbfgs failed to converge (status=1):\n",
      "STOP: TOTAL NO. of ITERATIONS REACHED LIMIT.\n",
      "\n",
      "Increase the number of iterations (max_iter) or scale the data as shown in:\n",
      "    https://scikit-learn.org/stable/modules/preprocessing.html\n",
      "Please also refer to the documentation for alternative solver options:\n",
      "    https://scikit-learn.org/stable/modules/linear_model.html#logistic-regression\n",
      "  n_iter_i = _check_optimize_result(\n"
     ]
    },
    {
     "name": "stdout",
     "output_type": "stream",
     "text": [
      "LogisticRegression\n",
      "---------------------------------\n",
      "Precision rate = 0.8421052631578947\n",
      "Recall rate = 0.9056603773584906\n",
      "F1 score = 0.8727272727272727\n",
      "\n",
      "[[46  9]\n",
      " [ 5 48]]\n",
      "---------------------------------\n",
      "AdaBoostClassifier\n",
      "---------------------------------\n",
      "Precision rate = 0.9245283018867925\n",
      "Recall rate = 0.9245283018867925\n",
      "F1 score = 0.9245283018867925\n",
      "\n",
      "[[51  4]\n",
      " [ 4 49]]\n",
      "---------------------------------\n",
      "SVC\n",
      "---------------------------------\n",
      "Precision rate = 0.9636363636363636\n",
      "Recall rate = 1.0\n",
      "F1 score = 0.9814814814814815\n",
      "\n",
      "[[53  2]\n",
      " [ 0 53]]\n",
      "---------------------------------\n",
      "RandomForestClassifier\n",
      "---------------------------------\n",
      "Precision rate = 0.8928571428571429\n",
      "Recall rate = 0.9433962264150944\n",
      "F1 score = 0.9174311926605505\n",
      "\n",
      "[[49  6]\n",
      " [ 3 50]]\n",
      "---------------------------------\n"
     ]
    },
    {
     "data": {
      "text/plain": [
       "[('LogisticRegression', 0.91415313225058, 0.8703703703703703),\n",
       " ('AdaBoostClassifier', 0.9651972157772621, 0.9259259259259259),\n",
       " ('SVC', 0.9976798143851509, 0.9814814814814815),\n",
       " ('RandomForestClassifier', 0.9443155452436195, 0.9166666666666666)]"
      ]
     },
     "execution_count": 27,
     "metadata": {},
     "output_type": "execute_result"
    }
   ],
   "source": [
    "classifiers = [\n",
    "    linear_model.LogisticRegression(solver=\"lbfgs\", max_iter=200),\n",
    "    ensemble.AdaBoostClassifier(),\n",
    "    svm.SVC(C=1,gamma=1, kernel='rbf'),\n",
    "    RandomForestClassifier(max_depth=5)\n",
    "]\n",
    "results = run_classifiers(classifiers, train_X, train_y, test_X, test_y)\n",
    "results"
   ]
  },
  {
   "cell_type": "code",
   "execution_count": 28,
   "metadata": {},
   "outputs": [
    {
     "name": "stdout",
     "output_type": "stream",
     "text": [
      "LogisticRegression 0.91415313225058\n",
      "AdaBoostClassifier 0.9651972157772621\n",
      "SVC 0.9976798143851509\n",
      "RandomForestClassifier 0.9443155452436195\n"
     ]
    }
   ],
   "source": [
    "classifier_names = [clf[0] for clf in results]\n",
    "train_acc = [clf[1] for clf in results]\n",
    "test_acc = [clf[2] for clf in results]\n",
    "\n",
    "for i in range(len(classifier_names)):\n",
    "    print(classifier_names[i],train_acc[i])"
   ]
  },
  {
   "cell_type": "code",
   "execution_count": 29,
   "metadata": {},
   "outputs": [],
   "source": [
    "Accuracy_df = pd.DataFrame(test_acc,classifier_names)\n",
    "Accuracy_df.reset_index(inplace = True)"
   ]
  },
  {
   "cell_type": "code",
   "execution_count": 30,
   "metadata": {},
   "outputs": [
    {
     "data": {
      "text/html": [
       "<div>\n",
       "<style scoped>\n",
       "    .dataframe tbody tr th:only-of-type {\n",
       "        vertical-align: middle;\n",
       "    }\n",
       "\n",
       "    .dataframe tbody tr th {\n",
       "        vertical-align: top;\n",
       "    }\n",
       "\n",
       "    .dataframe thead th {\n",
       "        text-align: right;\n",
       "    }\n",
       "</style>\n",
       "<table border=\"1\" class=\"dataframe\">\n",
       "  <thead>\n",
       "    <tr style=\"text-align: right;\">\n",
       "      <th></th>\n",
       "      <th>index</th>\n",
       "      <th>0</th>\n",
       "    </tr>\n",
       "  </thead>\n",
       "  <tbody>\n",
       "    <tr>\n",
       "      <th>0</th>\n",
       "      <td>LogisticRegression</td>\n",
       "      <td>0.870370</td>\n",
       "    </tr>\n",
       "    <tr>\n",
       "      <th>1</th>\n",
       "      <td>AdaBoostClassifier</td>\n",
       "      <td>0.925926</td>\n",
       "    </tr>\n",
       "    <tr>\n",
       "      <th>2</th>\n",
       "      <td>SVC</td>\n",
       "      <td>0.981481</td>\n",
       "    </tr>\n",
       "    <tr>\n",
       "      <th>3</th>\n",
       "      <td>RandomForestClassifier</td>\n",
       "      <td>0.916667</td>\n",
       "    </tr>\n",
       "  </tbody>\n",
       "</table>\n",
       "</div>"
      ],
      "text/plain": [
       "                    index         0\n",
       "0      LogisticRegression  0.870370\n",
       "1      AdaBoostClassifier  0.925926\n",
       "2                     SVC  0.981481\n",
       "3  RandomForestClassifier  0.916667"
      ]
     },
     "execution_count": 30,
     "metadata": {},
     "output_type": "execute_result"
    }
   ],
   "source": [
    "Accuracy_df"
   ]
  },
  {
   "cell_type": "code",
   "execution_count": 31,
   "metadata": {},
   "outputs": [
    {
     "data": {
      "text/html": [
       "<div>\n",
       "<style scoped>\n",
       "    .dataframe tbody tr th:only-of-type {\n",
       "        vertical-align: middle;\n",
       "    }\n",
       "\n",
       "    .dataframe tbody tr th {\n",
       "        vertical-align: top;\n",
       "    }\n",
       "\n",
       "    .dataframe thead th {\n",
       "        text-align: right;\n",
       "    }\n",
       "</style>\n",
       "<table border=\"1\" class=\"dataframe\">\n",
       "  <thead>\n",
       "    <tr style=\"text-align: right;\">\n",
       "      <th></th>\n",
       "      <th>Algorithm</th>\n",
       "      <th>Accuracy</th>\n",
       "    </tr>\n",
       "  </thead>\n",
       "  <tbody>\n",
       "    <tr>\n",
       "      <th>0</th>\n",
       "      <td>LogisticRegression</td>\n",
       "      <td>0.870370</td>\n",
       "    </tr>\n",
       "    <tr>\n",
       "      <th>1</th>\n",
       "      <td>AdaBoostClassifier</td>\n",
       "      <td>0.925926</td>\n",
       "    </tr>\n",
       "    <tr>\n",
       "      <th>2</th>\n",
       "      <td>SVC</td>\n",
       "      <td>0.981481</td>\n",
       "    </tr>\n",
       "    <tr>\n",
       "      <th>3</th>\n",
       "      <td>RandomForestClassifier</td>\n",
       "      <td>0.916667</td>\n",
       "    </tr>\n",
       "  </tbody>\n",
       "</table>\n",
       "</div>"
      ],
      "text/plain": [
       "                Algorithm  Accuracy\n",
       "0      LogisticRegression  0.870370\n",
       "1      AdaBoostClassifier  0.925926\n",
       "2                     SVC  0.981481\n",
       "3  RandomForestClassifier  0.916667"
      ]
     },
     "execution_count": 31,
     "metadata": {},
     "output_type": "execute_result"
    }
   ],
   "source": [
    "Accuracy_df.columns = ['Algorithm', 'Accuracy']\n",
    "Accuracy_df"
   ]
  },
  {
   "cell_type": "code",
   "execution_count": 32,
   "metadata": {},
   "outputs": [
    {
     "data": {
      "image/png": "[encoded data removed]",
      "text/plain": [
       "<Figure size 1080x360 with 1 Axes>"
      ]
     },
     "metadata": {
      "needs_background": "light"
     },
     "output_type": "display_data"
    }
   ],
   "source": [
    "plt.figure(figsize=(15,5))\n",
    "ax = sns.barplot(x=\"Algorithm\", y=\"Accuracy\", data = Accuracy_df).set(title='Accuracy with Different Classification Algorithms')"
   ]
  },
  {
   "cell_type": "code",
   "execution_count": 23,
   "metadata": {},
   "outputs": [
    {
     "name": "stdout",
     "output_type": "stream",
     "text": [
      "0.986024575977847\n"
     ]
    }
   ],
   "source": [
    "from sklearn.model_selection import cross_val_score\n",
    "print(cross_val_score(svm.SVC(C=1, break_ties=False, cache_size=200, class_weight=None, coef0=0.0,\n",
    "    decision_function_shape='ovr', degree=3, gamma=1, kernel='rbf', max_iter=-1,\n",
    "    probability=False, random_state=None, shrinking=True, tol=0.001,\n",
    "    verbose=False),train_X,train_y,cv=4,scoring=\"accuracy\").mean())"
   ]
  },
  {
   "cell_type": "markdown",
   "metadata": {},
   "source": [
    "# Parameters SVM\n",
    "C=1, break_ties=False, cache_size=200, class_weight=None, coef0=0.0,\n",
    "    decision_function_shape='ovr', degree=3, gamma=1, kernel='rbf', max_iter=-1,\n",
    "    probability=False, random_state=None, shrinking=True, tol=0.001,\n",
    "    verbose=False"
   ]
  },
  {
   "cell_type": "code",
   "execution_count": 17,
   "metadata": {},
   "outputs": [
    {
     "name": "stdout",
     "output_type": "stream",
     "text": [
      "Fitting 5 folds for each of 25 candidates, totalling 125 fits\n",
      "[CV 1/5] END ........C=0.1, gamma=1, kernel=rbf;, score=0.586 total time=   0.0s\n",
      "[CV 2/5] END ........C=0.1, gamma=1, kernel=rbf;, score=0.593 total time=   0.0s\n",
      "[CV 3/5] END ........C=0.1, gamma=1, kernel=rbf;, score=0.547 total time=   0.0s\n",
      "[CV 4/5] END ........C=0.1, gamma=1, kernel=rbf;, score=0.581 total time=   0.0s\n",
      "[CV 5/5] END ........C=0.1, gamma=1, kernel=rbf;, score=0.581 total time=   0.0s\n",
      "[CV 1/5] END ......C=0.1, gamma=0.1, kernel=rbf;, score=0.874 total time=   0.0s\n",
      "[CV 2/5] END ......C=0.1, gamma=0.1, kernel=rbf;, score=0.756 total time=   0.0s\n",
      "[CV 3/5] END ......C=0.1, gamma=0.1, kernel=rbf;, score=0.767 total time=   0.0s\n",
      "[CV 4/5] END ......C=0.1, gamma=0.1, kernel=rbf;, score=0.860 total time=   0.0s\n",
      "[CV 5/5] END ......C=0.1, gamma=0.1, kernel=rbf;, score=0.826 total time=   0.0s\n",
      "[CV 1/5] END .....C=0.1, gamma=0.01, kernel=rbf;, score=0.736 total time=   0.0s\n",
      "[CV 2/5] END .....C=0.1, gamma=0.01, kernel=rbf;, score=0.593 total time=   0.0s\n",
      "[CV 3/5] END .....C=0.1, gamma=0.01, kernel=rbf;, score=0.616 total time=   0.0s\n",
      "[CV 4/5] END .....C=0.1, gamma=0.01, kernel=rbf;, score=0.465 total time=   0.0s\n",
      "[CV 5/5] END .....C=0.1, gamma=0.01, kernel=rbf;, score=0.581 total time=   0.0s\n",
      "[CV 1/5] END ....C=0.1, gamma=0.001, kernel=rbf;, score=0.506 total time=   0.0s\n",
      "[CV 2/5] END ....C=0.1, gamma=0.001, kernel=rbf;, score=0.512 total time=   0.0s\n",
      "[CV 3/5] END ....C=0.1, gamma=0.001, kernel=rbf;, score=0.500 total time=   0.0s\n",
      "[CV 4/5] END ....C=0.1, gamma=0.001, kernel=rbf;, score=0.488 total time=   0.0s\n",
      "[CV 5/5] END ....C=0.1, gamma=0.001, kernel=rbf;, score=0.523 total time=   0.0s\n",
      "[CV 1/5] END ...C=0.1, gamma=0.0001, kernel=rbf;, score=0.506 total time=   0.0s\n",
      "[CV 2/5] END ...C=0.1, gamma=0.0001, kernel=rbf;, score=0.500 total time=   0.0s\n",
      "[CV 3/5] END ...C=0.1, gamma=0.0001, kernel=rbf;, score=0.500 total time=   0.0s\n",
      "[CV 4/5] END ...C=0.1, gamma=0.0001, kernel=rbf;, score=0.500 total time=   0.0s\n",
      "[CV 5/5] END ...C=0.1, gamma=0.0001, kernel=rbf;, score=0.512 total time=   0.0s\n",
      "[CV 1/5] END ..........C=1, gamma=1, kernel=rbf;, score=1.000 total time=   0.0s\n",
      "[CV 2/5] END ..........C=1, gamma=1, kernel=rbf;, score=1.000 total time=   0.0s\n",
      "[CV 3/5] END ..........C=1, gamma=1, kernel=rbf;, score=1.000 total time=   0.0s\n",
      "[CV 4/5] END ..........C=1, gamma=1, kernel=rbf;, score=1.000 total time=   0.0s\n",
      "[CV 5/5] END ..........C=1, gamma=1, kernel=rbf;, score=0.988 total time=   0.0s\n",
      "[CV 1/5] END ........C=1, gamma=0.1, kernel=rbf;, score=0.954 total time=   0.0s\n",
      "[CV 2/5] END ........C=1, gamma=0.1, kernel=rbf;, score=0.919 total time=   0.0s\n",
      "[CV 3/5] END ........C=1, gamma=0.1, kernel=rbf;, score=0.930 total time=   0.0s\n",
      "[CV 4/5] END ........C=1, gamma=0.1, kernel=rbf;, score=1.000 total time=   0.0s\n",
      "[CV 5/5] END ........C=1, gamma=0.1, kernel=rbf;, score=0.919 total time=   0.0s\n",
      "[CV 1/5] END .......C=1, gamma=0.01, kernel=rbf;, score=0.885 total time=   0.0s\n",
      "[CV 2/5] END .......C=1, gamma=0.01, kernel=rbf;, score=0.860 total time=   0.0s\n",
      "[CV 3/5] END .......C=1, gamma=0.01, kernel=rbf;, score=0.814 total time=   0.0s\n",
      "[CV 4/5] END .......C=1, gamma=0.01, kernel=rbf;, score=0.942 total time=   0.0s\n",
      "[CV 5/5] END .......C=1, gamma=0.01, kernel=rbf;, score=0.802 total time=   0.0s\n",
      "[CV 1/5] END ......C=1, gamma=0.001, kernel=rbf;, score=0.747 total time=   0.0s\n",
      "[CV 2/5] END ......C=1, gamma=0.001, kernel=rbf;, score=0.570 total time=   0.0s\n",
      "[CV 3/5] END ......C=1, gamma=0.001, kernel=rbf;, score=0.616 total time=   0.0s\n",
      "[CV 4/5] END ......C=1, gamma=0.001, kernel=rbf;, score=0.558 total time=   0.0s\n",
      "[CV 5/5] END ......C=1, gamma=0.001, kernel=rbf;, score=0.616 total time=   0.0s\n",
      "[CV 1/5] END .....C=1, gamma=0.0001, kernel=rbf;, score=0.506 total time=   0.0s\n",
      "[CV 2/5] END .....C=1, gamma=0.0001, kernel=rbf;, score=0.500 total time=   0.0s\n",
      "[CV 3/5] END .....C=1, gamma=0.0001, kernel=rbf;, score=0.535 total time=   0.0s\n",
      "[CV 4/5] END .....C=1, gamma=0.0001, kernel=rbf;, score=0.465 total time=   0.0s\n",
      "[CV 5/5] END .....C=1, gamma=0.0001, kernel=rbf;, score=0.512 total time=   0.0s\n",
      "[CV 1/5] END .........C=10, gamma=1, kernel=rbf;, score=1.000 total time=   0.0s\n",
      "[CV 2/5] END .........C=10, gamma=1, kernel=rbf;, score=1.000 total time=   0.0s\n",
      "[CV 3/5] END .........C=10, gamma=1, kernel=rbf;, score=1.000 total time=   0.0s\n",
      "[CV 4/5] END .........C=10, gamma=1, kernel=rbf;, score=1.000 total time=   0.0s\n",
      "[CV 5/5] END .........C=10, gamma=1, kernel=rbf;, score=0.988 total time=   0.0s\n",
      "[CV 1/5] END .......C=10, gamma=0.1, kernel=rbf;, score=0.989 total time=   0.0s\n",
      "[CV 2/5] END .......C=10, gamma=0.1, kernel=rbf;, score=1.000 total time=   0.0s\n",
      "[CV 3/5] END .......C=10, gamma=0.1, kernel=rbf;, score=0.953 total time=   0.0s\n",
      "[CV 4/5] END .......C=10, gamma=0.1, kernel=rbf;, score=0.988 total time=   0.0s\n",
      "[CV 5/5] END .......C=10, gamma=0.1, kernel=rbf;, score=0.930 total time=   0.0s\n",
      "[CV 1/5] END ......C=10, gamma=0.01, kernel=rbf;, score=0.920 total time=   0.0s\n",
      "[CV 2/5] END ......C=10, gamma=0.01, kernel=rbf;, score=0.919 total time=   0.0s\n",
      "[CV 3/5] END ......C=10, gamma=0.01, kernel=rbf;, score=0.930 total time=   0.0s\n",
      "[CV 4/5] END ......C=10, gamma=0.01, kernel=rbf;, score=0.953 total time=   0.0s\n",
      "[CV 5/5] END ......C=10, gamma=0.01, kernel=rbf;, score=0.872 total time=   0.0s\n",
      "[CV 1/5] END .....C=10, gamma=0.001, kernel=rbf;, score=0.908 total time=   0.0s\n",
      "[CV 2/5] END .....C=10, gamma=0.001, kernel=rbf;, score=0.895 total time=   0.0s\n",
      "[CV 3/5] END .....C=10, gamma=0.001, kernel=rbf;, score=0.826 total time=   0.0s\n",
      "[CV 4/5] END .....C=10, gamma=0.001, kernel=rbf;, score=0.942 total time=   0.0s\n",
      "[CV 5/5] END .....C=10, gamma=0.001, kernel=rbf;, score=0.837 total time=   0.0s\n",
      "[CV 1/5] END ....C=10, gamma=0.0001, kernel=rbf;, score=0.759 total time=   0.0s\n",
      "[CV 2/5] END ....C=10, gamma=0.0001, kernel=rbf;, score=0.663 total time=   0.0s\n",
      "[CV 3/5] END ....C=10, gamma=0.0001, kernel=rbf;, score=0.709 total time=   0.0s\n",
      "[CV 4/5] END ....C=10, gamma=0.0001, kernel=rbf;, score=0.640 total time=   0.0s\n",
      "[CV 5/5] END ....C=10, gamma=0.0001, kernel=rbf;, score=0.651 total time=   0.0s\n",
      "[CV 1/5] END ........C=100, gamma=1, kernel=rbf;, score=1.000 total time=   0.0s\n",
      "[CV 2/5] END ........C=100, gamma=1, kernel=rbf;, score=1.000 total time=   0.0s\n",
      "[CV 3/5] END ........C=100, gamma=1, kernel=rbf;, score=1.000 total time=   0.0s\n",
      "[CV 4/5] END ........C=100, gamma=1, kernel=rbf;, score=1.000 total time=   0.0s\n",
      "[CV 5/5] END ........C=100, gamma=1, kernel=rbf;, score=0.988 total time=   0.0s\n",
      "[CV 1/5] END ......C=100, gamma=0.1, kernel=rbf;, score=0.989 total time=   0.0s\n",
      "[CV 2/5] END ......C=100, gamma=0.1, kernel=rbf;, score=1.000 total time=   0.0s\n",
      "[CV 3/5] END ......C=100, gamma=0.1, kernel=rbf;, score=0.953 total time=   0.0s\n",
      "[CV 4/5] END ......C=100, gamma=0.1, kernel=rbf;, score=0.988 total time=   0.0s\n",
      "[CV 5/5] END ......C=100, gamma=0.1, kernel=rbf;, score=0.930 total time=   0.0s\n",
      "[CV 1/5] END .....C=100, gamma=0.01, kernel=rbf;, score=0.943 total time=   0.0s\n",
      "[CV 2/5] END .....C=100, gamma=0.01, kernel=rbf;, score=0.965 total time=   0.0s\n",
      "[CV 3/5] END .....C=100, gamma=0.01, kernel=rbf;, score=0.930 total time=   0.0s\n",
      "[CV 4/5] END .....C=100, gamma=0.01, kernel=rbf;, score=0.965 total time=   0.0s\n",
      "[CV 5/5] END .....C=100, gamma=0.01, kernel=rbf;, score=0.919 total time=   0.0s\n",
      "[CV 1/5] END ....C=100, gamma=0.001, kernel=rbf;, score=0.920 total time=   0.0s\n",
      "[CV 2/5] END ....C=100, gamma=0.001, kernel=rbf;, score=0.919 total time=   0.0s\n",
      "[CV 3/5] END ....C=100, gamma=0.001, kernel=rbf;, score=0.849 total time=   0.0s\n",
      "[CV 4/5] END ....C=100, gamma=0.001, kernel=rbf;, score=0.895 total time=   0.0s\n",
      "[CV 5/5] END ....C=100, gamma=0.001, kernel=rbf;, score=0.837 total time=   0.0s\n",
      "[CV 1/5] END ...C=100, gamma=0.0001, kernel=rbf;, score=0.897 total time=   0.0s\n",
      "[CV 2/5] END ...C=100, gamma=0.0001, kernel=rbf;, score=0.895 total time=   0.0s\n",
      "[CV 3/5] END ...C=100, gamma=0.0001, kernel=rbf;, score=0.860 total time=   0.0s\n",
      "[CV 4/5] END ...C=100, gamma=0.0001, kernel=rbf;, score=0.930 total time=   0.0s\n",
      "[CV 5/5] END ...C=100, gamma=0.0001, kernel=rbf;, score=0.837 total time=   0.0s\n",
      "[CV 1/5] END .......C=1000, gamma=1, kernel=rbf;, score=1.000 total time=   0.0s\n",
      "[CV 2/5] END .......C=1000, gamma=1, kernel=rbf;, score=1.000 total time=   0.0s\n",
      "[CV 3/5] END .......C=1000, gamma=1, kernel=rbf;, score=1.000 total time=   0.0s\n",
      "[CV 4/5] END .......C=1000, gamma=1, kernel=rbf;, score=1.000 total time=   0.0s\n",
      "[CV 5/5] END .......C=1000, gamma=1, kernel=rbf;, score=0.988 total time=   0.0s\n",
      "[CV 1/5] END .....C=1000, gamma=0.1, kernel=rbf;, score=0.989 total time=   0.0s\n",
      "[CV 2/5] END .....C=1000, gamma=0.1, kernel=rbf;, score=1.000 total time=   0.0s\n",
      "[CV 3/5] END .....C=1000, gamma=0.1, kernel=rbf;, score=0.953 total time=   0.0s\n",
      "[CV 4/5] END .....C=1000, gamma=0.1, kernel=rbf;, score=0.988 total time=   0.0s\n",
      "[CV 5/5] END .....C=1000, gamma=0.1, kernel=rbf;, score=0.930 total time=   0.0s\n",
      "[CV 1/5] END ....C=1000, gamma=0.01, kernel=rbf;, score=0.943 total time=   0.0s\n",
      "[CV 2/5] END ....C=1000, gamma=0.01, kernel=rbf;, score=0.977 total time=   0.0s\n",
      "[CV 3/5] END ....C=1000, gamma=0.01, kernel=rbf;, score=0.965 total time=   0.0s\n"
     ]
    },
    {
     "name": "stdout",
     "output_type": "stream",
     "text": [
      "[CV 4/5] END ....C=1000, gamma=0.01, kernel=rbf;, score=0.988 total time=   0.0s\n",
      "[CV 5/5] END ....C=1000, gamma=0.01, kernel=rbf;, score=0.930 total time=   0.0s\n",
      "[CV 1/5] END ...C=1000, gamma=0.001, kernel=rbf;, score=0.943 total time=   0.0s\n",
      "[CV 2/5] END ...C=1000, gamma=0.001, kernel=rbf;, score=0.942 total time=   0.0s\n",
      "[CV 3/5] END ...C=1000, gamma=0.001, kernel=rbf;, score=0.919 total time=   0.0s\n",
      "[CV 4/5] END ...C=1000, gamma=0.001, kernel=rbf;, score=0.953 total time=   0.0s\n",
      "[CV 5/5] END ...C=1000, gamma=0.001, kernel=rbf;, score=0.860 total time=   0.0s\n",
      "[CV 1/5] END ..C=1000, gamma=0.0001, kernel=rbf;, score=0.908 total time=   0.0s\n",
      "[CV 2/5] END ..C=1000, gamma=0.0001, kernel=rbf;, score=0.907 total time=   0.0s\n",
      "[CV 3/5] END ..C=1000, gamma=0.0001, kernel=rbf;, score=0.849 total time=   0.0s\n",
      "[CV 4/5] END ..C=1000, gamma=0.0001, kernel=rbf;, score=0.895 total time=   0.0s\n",
      "[CV 5/5] END ..C=1000, gamma=0.0001, kernel=rbf;, score=0.849 total time=   0.0s\n"
     ]
    },
    {
     "data": {
      "text/plain": [
       "GridSearchCV(estimator=SVC(),\n",
       "             param_grid={'C': [0.1, 1, 10, 100, 1000],\n",
       "                         'gamma': [1, 0.1, 0.01, 0.001, 0.0001],\n",
       "                         'kernel': ['rbf']},\n",
       "             verbose=3)"
      ]
     },
     "execution_count": 17,
     "metadata": {},
     "output_type": "execute_result"
    }
   ],
   "source": [
    "from sklearn.svm import SVC\n",
    "from sklearn.model_selection import GridSearchCV \n",
    "\n",
    "# defining parameter range \n",
    "param_grid = {'C': [0.1, 1, 10, 100, 1000], \n",
    "\t\t\t'gamma': [1, 0.1, 0.01, 0.001, 0.0001], \n",
    "\t\t\t'kernel': ['rbf']} \n",
    "\n",
    "grid = GridSearchCV(SVC(), param_grid, refit = True, verbose = 3) \n",
    "\n",
    "# fitting the model for grid search \n",
    "grid.fit(train_X, train_y)"
   ]
  },
  {
   "cell_type": "code",
   "execution_count": 19,
   "metadata": {},
   "outputs": [
    {
     "name": "stdout",
     "output_type": "stream",
     "text": [
      "{'C': 1, 'gamma': 1, 'kernel': 'rbf'}\n",
      "SVC(C=1, gamma=1)\n"
     ]
    }
   ],
   "source": [
    "# print best parameter after tuning \n",
    "print(grid.best_params_) \n",
    "\n",
    "# print how our model looks after hyper-parameter tuning \n",
    "print(grid.best_estimator_) \n"
   ]
  }
 ],
 "metadata": {
  "kernelspec": {
   "display_name": "Python 3 (ipykernel)",
   "language": "python",
   "name": "python3"
  },
  "language_info": {
   "codemirror_mode": {
    "name": "ipython",
    "version": 3
   },
   "file_extension": ".py",
   "mimetype": "text/x-python",
   "name": "python",
   "nbconvert_exporter": "python",
   "pygments_lexer": "ipython3",
   "version": "3.9.12"
  }
 },
 "nbformat": 4,
 "nbformat_minor": 4
}
